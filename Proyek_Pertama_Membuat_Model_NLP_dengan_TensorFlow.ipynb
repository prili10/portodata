{
  "cells": [
    {
      "cell_type": "code",
      "execution_count": null,
      "metadata": {
        "colab": {
          "base_uri": "https://localhost:8080/"
        },
        "id": "4Ts-va9yCLUm",
        "outputId": "46c49b82-4582-432c-b09a-7750fa4f0e6e"
      },
      "outputs": [
        {
          "output_type": "stream",
          "name": "stdout",
          "text": [
            "Mounted at /content/gdrive\n"
          ]
        }
      ],
      "source": [
        "from google.colab import drive\n",
        "drive.mount('/content/gdrive')"
      ]
    },
    {
      "cell_type": "code",
      "execution_count": 20,
      "metadata": {
        "colab": {
          "base_uri": "https://localhost:8080/"
        },
        "id": "z4LGdFP0uqcY",
        "outputId": "306384e0-ec37-403a-e560-213c68de51ef"
      },
      "outputs": [
        {
          "output_type": "execute_result",
          "data": {
            "text/plain": [
              "Index(['category', 'text'], dtype='object')"
            ]
          },
          "metadata": {},
          "execution_count": 20
        }
      ],
      "source": [
        "import pandas as pd\n",
        "df = pd.read_csv('/content/drive/MyDrive/bbc-text.csv')\n",
        "df.columns\n",
        "\n"
      ]
    },
    {
      "cell_type": "code",
      "source": [
        "print(df)"
      ],
      "metadata": {
        "colab": {
          "base_uri": "https://localhost:8080/"
        },
        "id": "Hr1yD-ukfwu5",
        "outputId": "014a0273-4511-42e3-c04a-c5ac15f284a8"
      },
      "execution_count": 22,
      "outputs": [
        {
          "output_type": "stream",
          "name": "stdout",
          "text": [
            "           category                                               text\n",
            "0              tech  tv future in the hands of viewers with home th...\n",
            "1          business  worldcom boss  left books alone  former worldc...\n",
            "2             sport  tigers wary of farrell  gamble  leicester say ...\n",
            "3             sport  yeading face newcastle in fa cup premiership s...\n",
            "4     entertainment  ocean s twelve raids box office ocean s twelve...\n",
            "...             ...                                                ...\n",
            "2220       business  cars pull down us retail figures us retail sal...\n",
            "2221       politics  kilroy unveils immigration policy ex-chatshow ...\n",
            "2222  entertainment  rem announce new glasgow concert us band rem h...\n",
            "2223       politics  how political squabbles snowball it s become c...\n",
            "2224          sport  souness delight at euro progress boss graeme s...\n",
            "\n",
            "[2225 rows x 2 columns]\n"
          ]
        }
      ]
    },
    {
      "cell_type": "code",
      "execution_count": 23,
      "metadata": {
        "colab": {
          "base_uri": "https://localhost:8080/",
          "height": 424
        },
        "id": "2NF9PbWju6PB",
        "outputId": "3dc4d393-cba5-46fd-947a-9e26ca7c103b"
      },
      "outputs": [
        {
          "output_type": "execute_result",
          "data": {
            "text/plain": [
              "                                                   text  business  \\\n",
              "0     tv future in the hands of viewers with home th...         0   \n",
              "1     worldcom boss  left books alone  former worldc...         1   \n",
              "2     tigers wary of farrell  gamble  leicester say ...         0   \n",
              "3     yeading face newcastle in fa cup premiership s...         0   \n",
              "4     ocean s twelve raids box office ocean s twelve...         0   \n",
              "...                                                 ...       ...   \n",
              "2220  cars pull down us retail figures us retail sal...         1   \n",
              "2221  kilroy unveils immigration policy ex-chatshow ...         0   \n",
              "2222  rem announce new glasgow concert us band rem h...         0   \n",
              "2223  how political squabbles snowball it s become c...         0   \n",
              "2224  souness delight at euro progress boss graeme s...         0   \n",
              "\n",
              "      entertainment  politics  sport  tech  \n",
              "0                 0         0      0     1  \n",
              "1                 0         0      0     0  \n",
              "2                 0         0      1     0  \n",
              "3                 0         0      1     0  \n",
              "4                 1         0      0     0  \n",
              "...             ...       ...    ...   ...  \n",
              "2220              0         0      0     0  \n",
              "2221              0         1      0     0  \n",
              "2222              1         0      0     0  \n",
              "2223              0         1      0     0  \n",
              "2224              0         0      1     0  \n",
              "\n",
              "[2225 rows x 6 columns]"
            ],
            "text/html": [
              "\n",
              "  <div id=\"df-31f61674-684c-4e9e-82c1-6eff7ba7f3be\">\n",
              "    <div class=\"colab-df-container\">\n",
              "      <div>\n",
              "<style scoped>\n",
              "    .dataframe tbody tr th:only-of-type {\n",
              "        vertical-align: middle;\n",
              "    }\n",
              "\n",
              "    .dataframe tbody tr th {\n",
              "        vertical-align: top;\n",
              "    }\n",
              "\n",
              "    .dataframe thead th {\n",
              "        text-align: right;\n",
              "    }\n",
              "</style>\n",
              "<table border=\"1\" class=\"dataframe\">\n",
              "  <thead>\n",
              "    <tr style=\"text-align: right;\">\n",
              "      <th></th>\n",
              "      <th>text</th>\n",
              "      <th>business</th>\n",
              "      <th>entertainment</th>\n",
              "      <th>politics</th>\n",
              "      <th>sport</th>\n",
              "      <th>tech</th>\n",
              "    </tr>\n",
              "  </thead>\n",
              "  <tbody>\n",
              "    <tr>\n",
              "      <th>0</th>\n",
              "      <td>tv future in the hands of viewers with home th...</td>\n",
              "      <td>0</td>\n",
              "      <td>0</td>\n",
              "      <td>0</td>\n",
              "      <td>0</td>\n",
              "      <td>1</td>\n",
              "    </tr>\n",
              "    <tr>\n",
              "      <th>1</th>\n",
              "      <td>worldcom boss  left books alone  former worldc...</td>\n",
              "      <td>1</td>\n",
              "      <td>0</td>\n",
              "      <td>0</td>\n",
              "      <td>0</td>\n",
              "      <td>0</td>\n",
              "    </tr>\n",
              "    <tr>\n",
              "      <th>2</th>\n",
              "      <td>tigers wary of farrell  gamble  leicester say ...</td>\n",
              "      <td>0</td>\n",
              "      <td>0</td>\n",
              "      <td>0</td>\n",
              "      <td>1</td>\n",
              "      <td>0</td>\n",
              "    </tr>\n",
              "    <tr>\n",
              "      <th>3</th>\n",
              "      <td>yeading face newcastle in fa cup premiership s...</td>\n",
              "      <td>0</td>\n",
              "      <td>0</td>\n",
              "      <td>0</td>\n",
              "      <td>1</td>\n",
              "      <td>0</td>\n",
              "    </tr>\n",
              "    <tr>\n",
              "      <th>4</th>\n",
              "      <td>ocean s twelve raids box office ocean s twelve...</td>\n",
              "      <td>0</td>\n",
              "      <td>1</td>\n",
              "      <td>0</td>\n",
              "      <td>0</td>\n",
              "      <td>0</td>\n",
              "    </tr>\n",
              "    <tr>\n",
              "      <th>...</th>\n",
              "      <td>...</td>\n",
              "      <td>...</td>\n",
              "      <td>...</td>\n",
              "      <td>...</td>\n",
              "      <td>...</td>\n",
              "      <td>...</td>\n",
              "    </tr>\n",
              "    <tr>\n",
              "      <th>2220</th>\n",
              "      <td>cars pull down us retail figures us retail sal...</td>\n",
              "      <td>1</td>\n",
              "      <td>0</td>\n",
              "      <td>0</td>\n",
              "      <td>0</td>\n",
              "      <td>0</td>\n",
              "    </tr>\n",
              "    <tr>\n",
              "      <th>2221</th>\n",
              "      <td>kilroy unveils immigration policy ex-chatshow ...</td>\n",
              "      <td>0</td>\n",
              "      <td>0</td>\n",
              "      <td>1</td>\n",
              "      <td>0</td>\n",
              "      <td>0</td>\n",
              "    </tr>\n",
              "    <tr>\n",
              "      <th>2222</th>\n",
              "      <td>rem announce new glasgow concert us band rem h...</td>\n",
              "      <td>0</td>\n",
              "      <td>1</td>\n",
              "      <td>0</td>\n",
              "      <td>0</td>\n",
              "      <td>0</td>\n",
              "    </tr>\n",
              "    <tr>\n",
              "      <th>2223</th>\n",
              "      <td>how political squabbles snowball it s become c...</td>\n",
              "      <td>0</td>\n",
              "      <td>0</td>\n",
              "      <td>1</td>\n",
              "      <td>0</td>\n",
              "      <td>0</td>\n",
              "    </tr>\n",
              "    <tr>\n",
              "      <th>2224</th>\n",
              "      <td>souness delight at euro progress boss graeme s...</td>\n",
              "      <td>0</td>\n",
              "      <td>0</td>\n",
              "      <td>0</td>\n",
              "      <td>1</td>\n",
              "      <td>0</td>\n",
              "    </tr>\n",
              "  </tbody>\n",
              "</table>\n",
              "<p>2225 rows × 6 columns</p>\n",
              "</div>\n",
              "      <button class=\"colab-df-convert\" onclick=\"convertToInteractive('df-31f61674-684c-4e9e-82c1-6eff7ba7f3be')\"\n",
              "              title=\"Convert this dataframe to an interactive table.\"\n",
              "              style=\"display:none;\">\n",
              "        \n",
              "  <svg xmlns=\"http://www.w3.org/2000/svg\" height=\"24px\"viewBox=\"0 0 24 24\"\n",
              "       width=\"24px\">\n",
              "    <path d=\"M0 0h24v24H0V0z\" fill=\"none\"/>\n",
              "    <path d=\"M18.56 5.44l.94 2.06.94-2.06 2.06-.94-2.06-.94-.94-2.06-.94 2.06-2.06.94zm-11 1L8.5 8.5l.94-2.06 2.06-.94-2.06-.94L8.5 2.5l-.94 2.06-2.06.94zm10 10l.94 2.06.94-2.06 2.06-.94-2.06-.94-.94-2.06-.94 2.06-2.06.94z\"/><path d=\"M17.41 7.96l-1.37-1.37c-.4-.4-.92-.59-1.43-.59-.52 0-1.04.2-1.43.59L10.3 9.45l-7.72 7.72c-.78.78-.78 2.05 0 2.83L4 21.41c.39.39.9.59 1.41.59.51 0 1.02-.2 1.41-.59l7.78-7.78 2.81-2.81c.8-.78.8-2.07 0-2.86zM5.41 20L4 18.59l7.72-7.72 1.47 1.35L5.41 20z\"/>\n",
              "  </svg>\n",
              "      </button>\n",
              "      \n",
              "  <style>\n",
              "    .colab-df-container {\n",
              "      display:flex;\n",
              "      flex-wrap:wrap;\n",
              "      gap: 12px;\n",
              "    }\n",
              "\n",
              "    .colab-df-convert {\n",
              "      background-color: #E8F0FE;\n",
              "      border: none;\n",
              "      border-radius: 50%;\n",
              "      cursor: pointer;\n",
              "      display: none;\n",
              "      fill: #1967D2;\n",
              "      height: 32px;\n",
              "      padding: 0 0 0 0;\n",
              "      width: 32px;\n",
              "    }\n",
              "\n",
              "    .colab-df-convert:hover {\n",
              "      background-color: #E2EBFA;\n",
              "      box-shadow: 0px 1px 2px rgba(60, 64, 67, 0.3), 0px 1px 3px 1px rgba(60, 64, 67, 0.15);\n",
              "      fill: #174EA6;\n",
              "    }\n",
              "\n",
              "    [theme=dark] .colab-df-convert {\n",
              "      background-color: #3B4455;\n",
              "      fill: #D2E3FC;\n",
              "    }\n",
              "\n",
              "    [theme=dark] .colab-df-convert:hover {\n",
              "      background-color: #434B5C;\n",
              "      box-shadow: 0px 1px 3px 1px rgba(0, 0, 0, 0.15);\n",
              "      filter: drop-shadow(0px 1px 2px rgba(0, 0, 0, 0.3));\n",
              "      fill: #FFFFFF;\n",
              "    }\n",
              "  </style>\n",
              "\n",
              "      <script>\n",
              "        const buttonEl =\n",
              "          document.querySelector('#df-31f61674-684c-4e9e-82c1-6eff7ba7f3be button.colab-df-convert');\n",
              "        buttonEl.style.display =\n",
              "          google.colab.kernel.accessAllowed ? 'block' : 'none';\n",
              "\n",
              "        async function convertToInteractive(key) {\n",
              "          const element = document.querySelector('#df-31f61674-684c-4e9e-82c1-6eff7ba7f3be');\n",
              "          const dataTable =\n",
              "            await google.colab.kernel.invokeFunction('convertToInteractive',\n",
              "                                                     [key], {});\n",
              "          if (!dataTable) return;\n",
              "\n",
              "          const docLinkHtml = 'Like what you see? Visit the ' +\n",
              "            '<a target=\"_blank\" href=https://colab.research.google.com/notebooks/data_table.ipynb>data table notebook</a>'\n",
              "            + ' to learn more about interactive tables.';\n",
              "          element.innerHTML = '';\n",
              "          dataTable['output_type'] = 'display_data';\n",
              "          await google.colab.output.renderOutput(dataTable, element);\n",
              "          const docLink = document.createElement('div');\n",
              "          docLink.innerHTML = docLinkHtml;\n",
              "          element.appendChild(docLink);\n",
              "        }\n",
              "      </script>\n",
              "    </div>\n",
              "  </div>\n",
              "  "
            ]
          },
          "metadata": {},
          "execution_count": 23
        }
      ],
      "source": [
        "category = pd.get_dummies(df.category)\n",
        "df_baru = pd.concat([df, category], axis=1)\n",
        "df_baru = df_baru.drop(columns='category')\n",
        "df_baru"
      ]
    },
    {
      "cell_type": "code",
      "execution_count": 24,
      "metadata": {
        "id": "mBWh8YRPu938"
      },
      "outputs": [],
      "source": [
        "sinopsis = df_baru['text'].values\n",
        "label = df_baru[['business',\t'entertainment',\t'politics',\t'sport',\t'tech']].values"
      ]
    },
    {
      "cell_type": "code",
      "execution_count": 25,
      "metadata": {
        "id": "DIrR4JzivA4x"
      },
      "outputs": [],
      "source": [
        "from sklearn.model_selection import train_test_split\n",
        "sinopsis_latih, sinopsis_test, label_latih, label_test = train_test_split(sinopsis, label, test_size=0.2)"
      ]
    },
    {
      "cell_type": "code",
      "execution_count": 26,
      "metadata": {
        "id": "2c1kSpjKvEMF"
      },
      "outputs": [],
      "source": [
        "from tensorflow.keras.preprocessing.text import Tokenizer\n",
        "from tensorflow.keras.preprocessing.sequence import pad_sequences\n",
        " \n",
        "tokenizer = Tokenizer(num_words=5000, oov_token='<oov>')\n",
        "tokenizer.fit_on_texts(sinopsis_latih) \n",
        "tokenizer.fit_on_texts(sinopsis_test)\n",
        " \n",
        "sekuens_latih = tokenizer.texts_to_sequences(sinopsis_latih)\n",
        "sekuens_test = tokenizer.texts_to_sequences(sinopsis_test)\n",
        " \n",
        "padded_latih = pad_sequences(sekuens_latih,\n",
        "                             padding='post',\n",
        "                             maxlen=5,\n",
        "                             truncating='post') \n",
        "padded_test = pad_sequences(sekuens_test,\n",
        "                            padding='post',\n",
        "                            maxlen=5,\n",
        "                            truncating='post')"
      ]
    },
    {
      "cell_type": "code",
      "execution_count": 27,
      "metadata": {
        "colab": {
          "base_uri": "https://localhost:8080/"
        },
        "id": "xpM8APyWvHcw",
        "outputId": "5c42f204-c9e9-4430-ad55-3c1e70ebfb36"
      },
      "outputs": [
        {
          "output_type": "stream",
          "name": "stdout",
          "text": [
            "Model: \"sequential_6\"\n",
            "_________________________________________________________________\n",
            " Layer (type)                Output Shape              Param #   \n",
            "=================================================================\n",
            " embedding_6 (Embedding)     (None, None, 64)          320000    \n",
            "                                                                 \n",
            " bidirectional_6 (Bidirectio  (None, 128)              66048     \n",
            " nal)                                                            \n",
            "                                                                 \n",
            " dense_18 (Dense)            (None, 128)               16512     \n",
            "                                                                 \n",
            " dropout_12 (Dropout)        (None, 128)               0         \n",
            "                                                                 \n",
            " dense_19 (Dense)            (None, 64)                8256      \n",
            "                                                                 \n",
            " dropout_13 (Dropout)        (None, 64)                0         \n",
            "                                                                 \n",
            " dense_20 (Dense)            (None, 5)                 325       \n",
            "                                                                 \n",
            "=================================================================\n",
            "Total params: 411,141\n",
            "Trainable params: 411,141\n",
            "Non-trainable params: 0\n",
            "_________________________________________________________________\n"
          ]
        }
      ],
      "source": [
        "import tensorflow as tf\n",
        "from keras import regularizers\n",
        "from keras.layers import LSTM\n",
        "from keras.layers import Bidirectional\n",
        "\n",
        "model = tf.keras.Sequential([\n",
        "    tf.keras.layers.Embedding(5000, 64),\n",
        "    tf.keras.layers.Bidirectional(LSTM(64, dropout=0.5)),\n",
        "    tf.keras.layers.Dense(128, activation='relu', kernel_regularizer=tf.keras.regularizers.l1(0.00001)),\n",
        "    tf.keras.layers.Dropout(0.5),\n",
        "    tf.keras.layers.Dense(64, activation='relu', kernel_regularizer=tf.keras.regularizers.l2(0.00001)),\n",
        "    tf.keras.layers.Dropout(0.2),\n",
        "    tf.keras.layers.Dense(5, activation='softmax')\n",
        "])\n",
        "model.compile(loss='categorical_crossentropy',optimizer='adam',metrics=['accuracy'])\n",
        "model.summary()"
      ]
    },
    {
      "cell_type": "code",
      "execution_count": 28,
      "metadata": {
        "colab": {
          "base_uri": "https://localhost:8080/"
        },
        "id": "__I0i7BovKHk",
        "outputId": "010fb0b8-855e-4dbd-8b2e-b82f572893f5"
      },
      "outputs": [
        {
          "output_type": "stream",
          "name": "stdout",
          "text": [
            "Epoch 1/30\n",
            "56/56 - 7s - loss: 1.6171 - accuracy: 0.2292 - val_loss: 1.6010 - val_accuracy: 0.2472 - 7s/epoch - 120ms/step\n",
            "Epoch 2/30\n",
            "56/56 - 1s - loss: 1.5037 - accuracy: 0.3545 - val_loss: 1.2459 - val_accuracy: 0.4449 - 778ms/epoch - 14ms/step\n",
            "Epoch 3/30\n",
            "56/56 - 1s - loss: 0.8298 - accuracy: 0.6792 - val_loss: 0.7528 - val_accuracy: 0.7528 - 758ms/epoch - 14ms/step\n",
            "Epoch 4/30\n",
            "56/56 - 1s - loss: 0.3444 - accuracy: 0.8871 - val_loss: 0.7234 - val_accuracy: 0.7865 - 803ms/epoch - 14ms/step\n",
            "Epoch 5/30\n",
            "56/56 - 1s - loss: 0.2121 - accuracy: 0.9337 - val_loss: 0.7069 - val_accuracy: 0.8112 - 757ms/epoch - 14ms/step\n",
            "Epoch 6/30\n",
            "56/56 - 1s - loss: 0.1197 - accuracy: 0.9697 - val_loss: 0.7900 - val_accuracy: 0.8157 - 777ms/epoch - 14ms/step\n",
            "Epoch 7/30\n",
            "56/56 - 1s - loss: 0.0964 - accuracy: 0.9753 - val_loss: 0.8300 - val_accuracy: 0.8112 - 773ms/epoch - 14ms/step\n",
            "Epoch 8/30\n",
            "56/56 - 1s - loss: 0.0867 - accuracy: 0.9747 - val_loss: 0.8429 - val_accuracy: 0.8000 - 814ms/epoch - 15ms/step\n",
            "Epoch 9/30\n",
            "56/56 - 1s - loss: 0.0688 - accuracy: 0.9826 - val_loss: 0.9210 - val_accuracy: 0.7910 - 919ms/epoch - 16ms/step\n",
            "Epoch 10/30\n",
            "56/56 - 1s - loss: 0.0572 - accuracy: 0.9831 - val_loss: 1.0695 - val_accuracy: 0.7888 - 745ms/epoch - 13ms/step\n",
            "Epoch 11/30\n",
            "56/56 - 1s - loss: 0.0495 - accuracy: 0.9904 - val_loss: 1.1155 - val_accuracy: 0.7955 - 828ms/epoch - 15ms/step\n",
            "Epoch 12/30\n",
            "56/56 - 1s - loss: 0.0413 - accuracy: 0.9921 - val_loss: 1.1228 - val_accuracy: 0.8022 - 802ms/epoch - 14ms/step\n",
            "Epoch 13/30\n",
            "56/56 - 1s - loss: 0.0336 - accuracy: 0.9949 - val_loss: 1.1606 - val_accuracy: 0.8022 - 734ms/epoch - 13ms/step\n",
            "Epoch 14/30\n",
            "56/56 - 1s - loss: 0.0537 - accuracy: 0.9888 - val_loss: 1.1240 - val_accuracy: 0.7955 - 749ms/epoch - 13ms/step\n",
            "Epoch 15/30\n",
            "56/56 - 1s - loss: 0.0358 - accuracy: 0.9938 - val_loss: 1.1604 - val_accuracy: 0.8045 - 770ms/epoch - 14ms/step\n",
            "Epoch 16/30\n",
            "56/56 - 1s - loss: 0.0446 - accuracy: 0.9910 - val_loss: 1.2112 - val_accuracy: 0.8090 - 717ms/epoch - 13ms/step\n",
            "Epoch 17/30\n",
            "56/56 - 1s - loss: 0.0433 - accuracy: 0.9916 - val_loss: 1.1371 - val_accuracy: 0.8022 - 727ms/epoch - 13ms/step\n",
            "Epoch 18/30\n",
            "56/56 - 1s - loss: 0.0376 - accuracy: 0.9938 - val_loss: 1.1486 - val_accuracy: 0.8022 - 763ms/epoch - 14ms/step\n",
            "Epoch 19/30\n",
            "56/56 - 1s - loss: 0.0266 - accuracy: 0.9961 - val_loss: 1.2261 - val_accuracy: 0.8000 - 732ms/epoch - 13ms/step\n",
            "Epoch 20/30\n",
            "56/56 - 1s - loss: 0.0284 - accuracy: 0.9949 - val_loss: 1.2567 - val_accuracy: 0.8045 - 730ms/epoch - 13ms/step\n",
            "Epoch 21/30\n",
            "56/56 - 1s - loss: 0.0277 - accuracy: 0.9949 - val_loss: 1.2812 - val_accuracy: 0.8045 - 759ms/epoch - 14ms/step\n",
            "Epoch 22/30\n",
            "56/56 - 1s - loss: 0.0274 - accuracy: 0.9944 - val_loss: 1.3718 - val_accuracy: 0.7933 - 776ms/epoch - 14ms/step\n",
            "Epoch 23/30\n",
            "56/56 - 1s - loss: 0.0309 - accuracy: 0.9955 - val_loss: 1.4901 - val_accuracy: 0.7888 - 759ms/epoch - 14ms/step\n",
            "Epoch 24/30\n",
            "56/56 - 1s - loss: 0.0380 - accuracy: 0.9927 - val_loss: 1.3154 - val_accuracy: 0.7910 - 764ms/epoch - 14ms/step\n",
            "Epoch 25/30\n",
            "56/56 - 1s - loss: 0.0240 - accuracy: 0.9955 - val_loss: 1.3112 - val_accuracy: 0.7933 - 762ms/epoch - 14ms/step\n",
            "Epoch 26/30\n",
            "56/56 - 1s - loss: 0.0236 - accuracy: 0.9966 - val_loss: 1.4389 - val_accuracy: 0.7798 - 776ms/epoch - 14ms/step\n",
            "Epoch 27/30\n",
            "56/56 - 1s - loss: 0.0247 - accuracy: 0.9961 - val_loss: 1.4726 - val_accuracy: 0.7798 - 760ms/epoch - 14ms/step\n",
            "Epoch 28/30\n",
            "56/56 - 1s - loss: 0.0198 - accuracy: 0.9983 - val_loss: 1.4333 - val_accuracy: 0.7888 - 770ms/epoch - 14ms/step\n",
            "Epoch 29/30\n",
            "56/56 - 1s - loss: 0.0292 - accuracy: 0.9961 - val_loss: 1.4203 - val_accuracy: 0.7798 - 764ms/epoch - 14ms/step\n",
            "Epoch 30/30\n",
            "56/56 - 1s - loss: 0.0322 - accuracy: 0.9949 - val_loss: 1.3813 - val_accuracy: 0.7955 - 774ms/epoch - 14ms/step\n"
          ]
        }
      ],
      "source": [
        "num_epochs = 30\n",
        "history = model.fit(padded_latih, label_latih, epochs=num_epochs, \n",
        "                    validation_data=(padded_test, label_test), verbose=2)"
      ]
    },
    {
      "cell_type": "code",
      "execution_count": 29,
      "metadata": {
        "colab": {
          "base_uri": "https://localhost:8080/",
          "height": 295
        },
        "id": "mGMcDtEfjhkQ",
        "outputId": "923f1acf-eb16-42c8-a3fd-e56c5096c490"
      },
      "outputs": [
        {
          "output_type": "display_data",
          "data": {
            "text/plain": [
              "<Figure size 432x288 with 1 Axes>"
            ],
            "image/png": "[encoded data removed]"
          },
          "metadata": {
            "needs_background": "light"
          }
        }
      ],
      "source": [
        "import matplotlib.pyplot as plt\n",
        "\n",
        "plt.plot(history.history['accuracy'])\n",
        "plt.plot(history.history['val_accuracy'])\n",
        "\n",
        "plt.title('Model Accuracy')\n",
        "plt.ylabel('Accuracy')\n",
        "plt.xlabel('Epoch')\n",
        "\n",
        "plt.legend(['Train', 'Test'], loc='lower right')\n",
        "plt.show()"
      ]
    }
  ],
  "metadata": {
    "colab": {
      "provenance": []
    },
    "kernelspec": {
      "display_name": "Python 3",
      "name": "python3"
    },
    "language_info": {
      "name": "python"
    }
  },
  "nbformat": 4,
  "nbformat_minor": 0
}